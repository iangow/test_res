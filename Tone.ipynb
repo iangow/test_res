{
 "cells": [
  {
   "cell_type": "code",
   "execution_count": null,
   "metadata": {
    "collapsed": true
   },
   "outputs": [],
   "source": [
    "from sqlalchemy import create_engine\n",
    "from pandas.io.sql import read_sql\n",
    "\n",
    "conn_string = 'postgresql://iangow.me/crsp'\n",
    "engine = create_engine(conn_string)"
   ]
  },
  {
   "cell_type": "code",
   "execution_count": null,
   "metadata": {
    "collapsed": false
   },
   "outputs": [],
   "source": [
    "tone_data = read_sql(\"SELECT category, word_list FROM lm_tone\", engine)\n",
    "tone_data = tone_data.set_index(['category'])"
   ]
  },
  {
   "cell_type": "code",
   "execution_count": null,
   "metadata": {
    "collapsed": false
   },
   "outputs": [],
   "source": [
    "import re\n",
    "\n",
    "def make_regex(word_list):\n",
    "    mod_word_list = [word.lower() for word in word_list]\n",
    "    regex = '\\\\b(?:' + '|'.join(mod_word_list) + ')\\\\b'\n",
    "    return  re.compile(regex)\n",
    "\n",
    "tone_data"
   ]
  },
  {
   "cell_type": "code",
   "execution_count": null,
   "metadata": {
    "collapsed": false
   },
   "outputs": [],
   "source": [
    "def get_regex_matches(category, text):\n",
    "    regex = make_regex(tone_data.ix[category]['word_list'])\n",
    "    return re.findall(regex, text)"
   ]
  },
  {
   "cell_type": "code",
   "execution_count": null,
   "metadata": {
    "collapsed": false
   },
   "outputs": [],
   "source": [
    "file_name = '999419_T'\n",
    "\n",
    "sql = \"\"\"\n",
    "    SELECT speaker_name, role, context,\n",
    "        file_name, last_update, speaker_number, speaker_text\n",
    "    FROM streetevents.speaker_data\n",
    "    WHERE file_name='%s'\n",
    "    ORDER BY context, speaker_number\n",
    "\"\"\" % (file_name)\n",
    "\n",
    "df = read_sql(sql, engine)\n",
    "some_text = df[\"speaker_text\"][3]\n",
    "some_text"
   ]
  },
  {
   "cell_type": "code",
   "execution_count": null,
   "metadata": {
    "collapsed": true
   },
   "outputs": [],
   "source": [
    "def get_tone_data(text):\n",
    "    text = text.lower()\n",
    "    the_dict = {category: len(get_regex_matches(category, text))\n",
    "                            for category in categories}\n",
    "    return the_dict"
   ]
  },
  {
   "cell_type": "code",
   "execution_count": null,
   "metadata": {
    "collapsed": false
   },
   "outputs": [],
   "source": [
    "get_tone_data(some_text)"
   ]
  },
  {
   "cell_type": "code",
   "execution_count": null,
   "metadata": {
    "collapsed": false
   },
   "outputs": [],
   "source": [
    "df[\"tone_count\"] = df[\"speaker_text\"].map(get_tone_data)\n",
    "df.drop([\"speaker_name\", \"role\", \"speaker_text\"], axis=1, inplace=True)"
   ]
  },
  {
   "cell_type": "code",
   "execution_count": null,
   "metadata": {
    "collapsed": false
   },
   "outputs": [],
   "source": [
    "# df"
   ]
  },
  {
   "cell_type": "code",
   "execution_count": null,
   "metadata": {
    "collapsed": false
   },
   "outputs": [],
   "source": [
    "tone_keys = df[\"tone_count\"][0].keys()\n",
    "tone_keys"
   ]
  },
  {
   "cell_type": "code",
   "execution_count": null,
   "metadata": {
    "collapsed": false
   },
   "outputs": [],
   "source": [
    "for key in tone_keys:\n",
    "    df[key] = df[\"tone_count\"].map(lambda x: x[key])\n",
    "df.drop([\"tone_count\"], axis=1, inplace=True)"
   ]
  },
  {
   "cell_type": "code",
   "execution_count": null,
   "metadata": {
    "collapsed": false
   },
   "outputs": [],
   "source": [
    "df"
   ]
  },
  {
   "cell_type": "code",
   "execution_count": null,
   "metadata": {
    "collapsed": true
   },
   "outputs": [],
   "source": [
    "# Next write data to PostgreSQL"
   ]
  },
  {
   "cell_type": "code",
   "execution_count": null,
   "metadata": {
    "collapsed": true
   },
   "outputs": [],
   "source": []
  }
 ],
 "metadata": {
  "git": {
   "suppress_outputs": true
  },
  "kernelspec": {
   "display_name": "Python 3",
   "language": "python",
   "name": "python3"
  },
  "language_info": {
   "codemirror_mode": {
    "name": "ipython",
    "version": 3
   },
   "file_extension": ".py",
   "mimetype": "text/x-python",
   "name": "python",
   "nbconvert_exporter": "python",
   "pygments_lexer": "ipython3",
   "version": "3.5.2"
  }
 },
 "nbformat": 4,
 "nbformat_minor": 1
}
