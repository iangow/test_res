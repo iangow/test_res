{
 "cells": [
  {
   "cell_type": "code",
   "execution_count": 7,
   "metadata": {
    "collapsed": true
   },
   "outputs": [],
   "source": [
    "from sqlalchemy import create_engine\n",
    "from pandas.io.sql import read_sql\n",
    "\n",
    "conn_string = 'postgresql://iangow.me/crsp'\n",
    "engine = create_engine(conn_string)"
   ]
  },
  {
   "cell_type": "code",
   "execution_count": 8,
   "metadata": {
    "collapsed": true
   },
   "outputs": [],
   "source": [
    "from nltk import sent_tokenize"
   ]
  },
  {
   "cell_type": "code",
   "execution_count": 9,
   "metadata": {
    "collapsed": false
   },
   "outputs": [
    {
     "data": {
      "text/plain": [
       "['Thank you, Mike.',\n",
       " \"We continue to see major success with the Company's transition to high, value-added products and increased profitability.\",\n",
       " 'IR proprietary product revenues grew 39 percent year-on-year and now comprise 69 percent of Company revenues.',\n",
       " 'The fastest growing segment of our business, analog ICs and advance circuit devices, grew 47 percent year-on-year and now comprise 57 percent of our revenues.',\n",
       " 'In fact, sales from these products have more than doubled in the last eight quarters fueled by success in both IT and energy-conserving applications.',\n",
       " 'This richer mix has enabled us to grow our gross margins 11 percentage points, setting a new high of 43.3 percent in this quarter.']"
      ]
     },
     "execution_count": 9,
     "metadata": {},
     "output_type": "execute_result"
    }
   ],
   "source": [
    "file_name = '999419_T'\n",
    "\n",
    "sql = \"\"\"\n",
    "    SELECT speaker_name, role, context,\n",
    "        file_name, last_update, speaker_number, speaker_text\n",
    "    FROM streetevents.speaker_data\n",
    "    WHERE file_name='%s'\n",
    "    ORDER BY context, speaker_number\n",
    "\"\"\" % (file_name)\n",
    "\n",
    "df = read_sql(sql, engine)\n",
    "some_text = df[\"speaker_text\"][3]\n",
    "some_sents = sent_tokenize(some_text)\n",
    "some_sents[:6]"
   ]
  },
  {
   "cell_type": "code",
   "execution_count": 10,
   "metadata": {
    "collapsed": false
   },
   "outputs": [],
   "source": [
    "from nltk import pos_tag, word_tokenize\n",
    "sents_pos = [pos_tag(word_tokenize(sent)) for sent in some_sents]"
   ]
  },
  {
   "cell_type": "code",
   "execution_count": 11,
   "metadata": {
    "collapsed": false
   },
   "outputs": [
    {
     "data": {
      "text/plain": [
       "[('We', 'PRP'),\n",
       " ('continue', 'VBP'),\n",
       " ('to', 'TO'),\n",
       " ('see', 'VB'),\n",
       " ('major', 'JJ'),\n",
       " ('success', 'NN'),\n",
       " ('with', 'IN'),\n",
       " ('the', 'DT'),\n",
       " ('Company', 'NNP'),\n",
       " (\"'s\", 'POS'),\n",
       " ('transition', 'NN'),\n",
       " ('to', 'TO'),\n",
       " ('high', 'JJ'),\n",
       " (',', ','),\n",
       " ('value-added', 'JJ'),\n",
       " ('products', 'NNS'),\n",
       " ('and', 'CC'),\n",
       " ('increased', 'JJ'),\n",
       " ('profitability', 'NN'),\n",
       " ('.', '.')]"
      ]
     },
     "execution_count": 11,
     "metadata": {},
     "output_type": "execute_result"
    }
   ],
   "source": [
    "sents_pos[1]"
   ]
  },
  {
   "cell_type": "code",
   "execution_count": 12,
   "metadata": {
    "collapsed": false
   },
   "outputs": [
    {
     "data": {
      "text/plain": [
       "'{\"LOCATION\": [\"Dothan\", \"Nocona\", \"Lindenhurst\", \"Miele\"], \"MONEY\": [\"$\", \"150\", \"million\", \"a\", \"billion\", \"dollars\"], \"PERSON\": [\"Mike\", \"Dyson\"], \"ORGANIZATION\": [\"Intel\", \"Intel\", \"Intel\", \"Whirlpool\", \"Electrolux\", \"Haier\", \"Sanyo\", \"Toshiba\", \"Frigidaire\", \"GM\", \"Ford\", \"Mustang\", \"Chrysler\", \"Dodge\", \"Magnum\", \"Daimler\", \"Chrysler\", \"Ford\", \"VW\", \"BMW\"], \"PERCENT\": [\"39\", \"percent\", \"69\", \"percent\", \"47\", \"percent\", \"57\", \"percent\", \"43.3\", \"percent\", \"10\", \"percent\", \"33\", \"percent\", \"30\", \"percent\", \"30\", \"percent\", \"70\", \"percent\", \"50\", \"percent\", \"6\", \"percent\", \"80\", \"percent\", \"50\", \"percent\", \"50\", \"percent\", \"50\", \"percent\"], \"DATE\": [\"this\", \"quarter\", \"December\", \"quarter\", \"December\", \"quarter\", \"2005\", \"March\", \"2000\", \"March\", \"quarter\", \"last\", \"12\", \"months\"]}'"
      ]
     },
     "execution_count": 12,
     "metadata": {},
     "output_type": "execute_result"
    }
   ],
   "source": [
    "from find_ner import findner, tagger_init\n",
    "tagger_init()\n",
    "findner(some_text)"
   ]
  },
  {
   "cell_type": "code",
   "execution_count": null,
   "metadata": {
    "collapsed": false
   },
   "outputs": [],
   "source": []
  },
  {
   "cell_type": "code",
   "execution_count": null,
   "metadata": {
    "collapsed": true
   },
   "outputs": [],
   "source": []
  }
 ],
 "metadata": {
  "kernelspec": {
   "display_name": "Python 3",
   "language": "python",
   "name": "python3"
  },
  "language_info": {
   "codemirror_mode": {
    "name": "ipython",
    "version": 3
   },
   "file_extension": ".py",
   "mimetype": "text/x-python",
   "name": "python",
   "nbconvert_exporter": "python",
   "pygments_lexer": "ipython3",
   "version": "3.5.2"
  }
 },
 "nbformat": 4,
 "nbformat_minor": 1
}
