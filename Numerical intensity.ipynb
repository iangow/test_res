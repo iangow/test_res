{
 "cells": [
  {
   "cell_type": "code",
   "execution_count": null,
   "metadata": {
    "collapsed": true
   },
   "outputs": [],
   "source": [
    "from sqlalchemy import create_engine\n",
    "from pandas.io.sql import read_sql\n",
    "\n",
    "conn_string = 'postgresql://iangow.me/crsp'\n",
    "engine = create_engine(conn_string)"
   ]
  },
  {
   "cell_type": "code",
   "execution_count": null,
   "metadata": {
    "collapsed": false
   },
   "outputs": [],
   "source": [
    "file_name = '999419_T'\n",
    "\n",
    "sql = \"\"\"\n",
    "    SELECT speaker_name, role, context,\n",
    "        file_name, last_update, speaker_number, speaker_text\n",
    "    FROM streetevents.speaker_data\n",
    "    WHERE file_name='%s'\n",
    "    ORDER BY context, speaker_number\n",
    "\"\"\" % (file_name)\n",
    "\n",
    "df = read_sql(sql, engine)\n",
    "some_text = df[\"speaker_text\"][2]\n",
    "some_text"
   ]
  },
  {
   "cell_type": "code",
   "execution_count": null,
   "metadata": {
    "collapsed": true
   },
   "outputs": [],
   "source": [
    "def numbers(text):\n",
    " \n",
    "    import re\n",
    "     \n",
    "    # Regular expression to pick up months as described in Lundholm, Rogo and Zhang (2014)\n",
    "    months = ['January', 'February', 'March', 'April', 'May', 'June', 'July',\n",
    "                    'August', 'September', 'October', \n",
    "                    'November', 'December']     \n",
    "    months_abbrev = [ month[0:3] + '\\.?' for month in months]\n",
    "    month_re = '(?:' + '|'.join(months + months_abbrev) + ')'\n",
    " \n",
    "    # Years are four-digit numbers without commas.\n",
    "    # I have a better rule using the fact that years will begin with 19 or 20, etc.\n",
    "    years = '\\s*\\d{4}\\.?'\n",
    " \n",
    "    # Keep matching numbers, as well as month portion, if any\n",
    "    matches =  re.findall('(?:' + month_re + '\\s+)?[0-9][0-9,\\.]*', text)\n",
    " \n",
    "    # return matches that aren't years and aren't preceded by months\n",
    "    return [ a_match for a_match in matches\n",
    "                if not re.match(years, a_match) \n",
    "                    and not re.match(month_re, a_match)]"
   ]
  },
  {
   "cell_type": "code",
   "execution_count": null,
   "metadata": {
    "collapsed": false
   },
   "outputs": [],
   "source": [
    "numbers(some_text)"
   ]
  },
  {
   "cell_type": "code",
   "execution_count": null,
   "metadata": {
    "collapsed": false
   },
   "outputs": [],
   "source": [
    "len(numbers(some_text))"
   ]
  },
  {
   "cell_type": "code",
   "execution_count": null,
   "metadata": {
    "collapsed": false
   },
   "outputs": [],
   "source": [
    "len(some_text)"
   ]
  },
  {
   "cell_type": "code",
   "execution_count": null,
   "metadata": {
    "collapsed": true
   },
   "outputs": [],
   "source": [
    "def numerical_intensity(text):\n",
    "    return len(numbers(text))/len(text)"
   ]
  },
  {
   "cell_type": "code",
   "execution_count": null,
   "metadata": {
    "collapsed": true
   },
   "outputs": [],
   "source": [
    "df['num_int'] = df['speaker_text'].map(numerical_intensity)"
   ]
  },
  {
   "cell_type": "code",
   "execution_count": null,
   "metadata": {
    "collapsed": false
   },
   "outputs": [],
   "source": [
    "df"
   ]
  },
  {
   "cell_type": "code",
   "execution_count": null,
   "metadata": {
    "collapsed": true
   },
   "outputs": [],
   "source": [
    "# Push data to PostgreSQL database\n",
    "df.to_sql('num_intensity', engine,\n",
    "         if_exists=\"replace\", index=False)"
   ]
  },
  {
   "cell_type": "code",
   "execution_count": null,
   "metadata": {
    "collapsed": true
   },
   "outputs": [],
   "source": []
  }
 ],
 "metadata": {
  "kernelspec": {
   "display_name": "Python 3",
   "language": "python",
   "name": "python3"
  },
  "language_info": {
   "codemirror_mode": {
    "name": "ipython",
    "version": 3
   },
   "file_extension": ".py",
   "mimetype": "text/x-python",
   "name": "python",
   "nbconvert_exporter": "python",
   "pygments_lexer": "ipython3",
   "version": "3.5.2"
  }
 },
 "nbformat": 4,
 "nbformat_minor": 1
}
