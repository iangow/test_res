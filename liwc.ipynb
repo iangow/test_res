{
 "cells": [
  {
   "cell_type": "code",
   "execution_count": null,
   "metadata": {
    "collapsed": true
   },
   "outputs": [],
   "source": [
    "from sqlalchemy import create_engine\n",
    "from pandas.io.sql import read_sql\n",
    "\n",
    "conn_string = 'postgresql://iangow.me/crsp'\n",
    "engine = create_engine(conn_string)\n",
    "# liwc_counts"
   ]
  },
  {
   "cell_type": "code",
   "execution_count": null,
   "metadata": {
    "collapsed": false
   },
   "outputs": [],
   "source": [
    "sql = \"\"\"\n",
    "    SELECT *\n",
    "    FROM personality.liwc_dictionary\n",
    "    ORDER BY category\n",
    "\"\"\" \n",
    "\n",
    "liwc_dictionary = read_sql(sql, engine)\n",
    "liwc_dictionary"
   ]
  },
  {
   "cell_type": "code",
   "execution_count": null,
   "metadata": {
    "collapsed": false
   },
   "outputs": [],
   "source": [
    "sql = \"\"\"\n",
    "    SELECT *\n",
    "    FROM personality.word_list\n",
    "    ORDER BY category\n",
    "\"\"\" \n",
    "\n",
    "word_list = read_sql(sql, engine)\n",
    "categories = [cat for cat in word_list[\"category\"]]"
   ]
  },
  {
   "cell_type": "code",
   "execution_count": null,
   "metadata": {
    "collapsed": false
   },
   "outputs": [],
   "source": [
    "sql = \"\"\"\n",
    "    SELECT speaker_name, role, context,\n",
    "        file_name, last_update, speaker_number, \n",
    "        liwc_counts(speaker_text)\n",
    "    FROM streetevents.speaker_data\n",
    "    WHERE file_name='999419_T'\n",
    "    ORDER BY context, speaker_number\n",
    "\"\"\"\n",
    "\n",
    "df = read_sql(sql, engine)"
   ]
  },
  {
   "cell_type": "code",
   "execution_count": null,
   "metadata": {
    "collapsed": false
   },
   "outputs": [],
   "source": [
    "df['liwc_counts'][2]"
   ]
  },
  {
   "cell_type": "code",
   "execution_count": null,
   "metadata": {
    "collapsed": true
   },
   "outputs": [],
   "source": [
    "for key in categories:\n",
    "    df[key] = df[\"liwc_counts\"].map(lambda x: x[key])\n",
    "df.drop([\"liwc_counts\"], axis=1, inplace=True)"
   ]
  },
  {
   "cell_type": "code",
   "execution_count": null,
   "metadata": {
    "collapsed": false
   },
   "outputs": [],
   "source": [
    "df"
   ]
  }
 ],
 "metadata": {
  "kernelspec": {
   "display_name": "Python 3",
   "language": "python",
   "name": "python3"
  },
  "language_info": {
   "codemirror_mode": {
    "name": "ipython",
    "version": 3
   },
   "file_extension": ".py",
   "mimetype": "text/x-python",
   "name": "python",
   "nbconvert_exporter": "python",
   "pygments_lexer": "ipython3",
   "version": "3.5.2"
  }
 },
 "nbformat": 4,
 "nbformat_minor": 1
}
